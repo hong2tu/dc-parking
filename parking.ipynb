{
 "cells": [
  {
   "cell_type": "markdown",
   "metadata": {},
   "source": [
    "In this analysis I will be analyzing two datasets in order to answer my research questions which is: Is there an association between average household income and service requests? What is the relationship between average household income and non-parking related service requests? What is the relationship between average household income and parking related service requests? \n",
    "\n",
    "The first dataset provided is from DC’s 311 service request center. It contains information about different types of service requests such as abandon cars, parking meter repairs, and trash pickup. Furthermore, the data describes where the service requests were taken and more specific descriptions of each incident.\n",
    "\n",
    "The second dataset shows the mean and median incomes of each ward in DC.\n",
    "\n",
    "Links: https://opendata.dc.gov/datasets/311-city-service-requests-in-2014 https://gimletmedia.com/shows/science-vs/39hzkk"
   ]
  },
  {
   "cell_type": "code",
   "execution_count": 103,
   "metadata": {},
   "outputs": [],
   "source": [
    "import pandas as pd\n",
    "import numpy as np\n",
    "import matplotlib.pyplot as plt"
   ]
  },
  {
   "cell_type": "code",
   "execution_count": 104,
   "metadata": {},
   "outputs": [],
   "source": [
    "# read data sets\n",
    "service = pd.read_csv('311_City_Service_Requests_in_2014.csv')\n",
    "ward = pd.read_csv('WardIncome.csv')"
   ]
  },
  {
   "cell_type": "code",
   "execution_count": 105,
   "metadata": {},
   "outputs": [],
   "source": [
    "# drops first two columns because they are not needed\n",
    "service = service.drop(['X', 'Y'], axis = 1)"
   ]
  },
  {
   "cell_type": "code",
   "execution_count": 106,
   "metadata": {},
   "outputs": [],
   "source": [
    "#create data frame\n",
    "parking = service.loc[(service['SERVICECODEDESCRIPTION'].isin([ \"Parking Enforcement\", \n",
    "                                                               \"Parking Meter Repair\", \"Abandoned Vehicle - On Public Property\", \n",
    "                                                               \"Abandoned Vehicle - On Private Property\", \n",
    "                                                               \"Residential Parking Permit Violation\", \n",
    "                                                               \"Emergency No-parking Verification\"]))]\n",
    "\n",
    "not_parking = service.loc[~(service['SERVICECODEDESCRIPTION'].isin([ \"Parking Enforcement\", \n",
    "                                                               \"Parking Meter Repair\", \"Abandoned Vehicle - On Public Property\", \n",
    "                                                               \"Abandoned Vehicle - On Private Property\", \n",
    "                                                               \"Residential Parking Permit Violation\", \n",
    "                                                               \"Emergency No-parking Verification\"]))]"
   ]
  },
  {
   "cell_type": "code",
   "execution_count": 107,
   "metadata": {},
   "outputs": [],
   "source": [
    "#aggregate\n",
    "x = parking[[\"WARD\", \"SERVICECODEDESCRIPTION\"]].groupby([\"WARD\"]).agg(\"count\")\n",
    "x = x.reset_index()\n",
    "x.columns = [\"Ward\", \"Parking \"]\n"
   ]
  },
  {
   "cell_type": "code",
   "execution_count": 108,
   "metadata": {},
   "outputs": [],
   "source": [
    "#aggregate\n",
    "y = not_parking[[\"WARD\", \"SERVICECODEDESCRIPTION\"]].groupby([\"WARD\"]).agg(\"count\")\n",
    "y = y.reset_index()\n",
    "y.columns = [\"Ward\", \"Non-Parking\"]\n"
   ]
  },
  {
   "cell_type": "code",
   "execution_count": 109,
   "metadata": {},
   "outputs": [
    {
     "data": {
      "text/html": [
       "<div>\n",
       "<style scoped>\n",
       "    .dataframe tbody tr th:only-of-type {\n",
       "        vertical-align: middle;\n",
       "    }\n",
       "\n",
       "    .dataframe tbody tr th {\n",
       "        vertical-align: top;\n",
       "    }\n",
       "\n",
       "    .dataframe thead th {\n",
       "        text-align: right;\n",
       "    }\n",
       "</style>\n",
       "<table border=\"1\" class=\"dataframe\">\n",
       "  <thead>\n",
       "    <tr style=\"text-align: right;\">\n",
       "      <th></th>\n",
       "      <th>Ward</th>\n",
       "      <th>Non-Parking</th>\n",
       "      <th>Parking</th>\n",
       "      <th>Median Household Income in USD</th>\n",
       "      <th>Mean Household Income in USD</th>\n",
       "    </tr>\n",
       "  </thead>\n",
       "  <tbody>\n",
       "    <tr>\n",
       "      <th>0</th>\n",
       "      <td>1.0</td>\n",
       "      <td>18403</td>\n",
       "      <td>11021</td>\n",
       "      <td>82159</td>\n",
       "      <td>106388</td>\n",
       "    </tr>\n",
       "    <tr>\n",
       "      <th>1</th>\n",
       "      <td>2.0</td>\n",
       "      <td>16844</td>\n",
       "      <td>66196</td>\n",
       "      <td>100388</td>\n",
       "      <td>140459</td>\n",
       "    </tr>\n",
       "    <tr>\n",
       "      <th>2</th>\n",
       "      <td>3.0</td>\n",
       "      <td>21825</td>\n",
       "      <td>9163</td>\n",
       "      <td>112873</td>\n",
       "      <td>176921</td>\n",
       "    </tr>\n",
       "    <tr>\n",
       "      <th>3</th>\n",
       "      <td>4.0</td>\n",
       "      <td>34030</td>\n",
       "      <td>5472</td>\n",
       "      <td>74600</td>\n",
       "      <td>111933</td>\n",
       "    </tr>\n",
       "    <tr>\n",
       "      <th>4</th>\n",
       "      <td>5.0</td>\n",
       "      <td>29764</td>\n",
       "      <td>6505</td>\n",
       "      <td>57554</td>\n",
       "      <td>77329</td>\n",
       "    </tr>\n",
       "    <tr>\n",
       "      <th>5</th>\n",
       "      <td>6.0</td>\n",
       "      <td>29753</td>\n",
       "      <td>30500</td>\n",
       "      <td>94343</td>\n",
       "      <td>117002</td>\n",
       "    </tr>\n",
       "    <tr>\n",
       "      <th>6</th>\n",
       "      <td>7.0</td>\n",
       "      <td>23623</td>\n",
       "      <td>2861</td>\n",
       "      <td>39165</td>\n",
       "      <td>53093</td>\n",
       "    </tr>\n",
       "    <tr>\n",
       "      <th>7</th>\n",
       "      <td>8.0</td>\n",
       "      <td>14817</td>\n",
       "      <td>2197</td>\n",
       "      <td>30910</td>\n",
       "      <td>44245</td>\n",
       "    </tr>\n",
       "  </tbody>\n",
       "</table>\n",
       "</div>"
      ],
      "text/plain": [
       "   Ward  Non-Parking  Parking  Median Household Income in USD  \\\n",
       "0   1.0        18403    11021                           82159   \n",
       "1   2.0        16844    66196                          100388   \n",
       "2   3.0        21825     9163                          112873   \n",
       "3   4.0        34030     5472                           74600   \n",
       "4   5.0        29764     6505                           57554   \n",
       "5   6.0        29753    30500                           94343   \n",
       "6   7.0        23623     2861                           39165   \n",
       "7   8.0        14817     2197                           30910   \n",
       "\n",
       "   Mean Household Income in USD  \n",
       "0                        106388  \n",
       "1                        140459  \n",
       "2                        176921  \n",
       "3                        111933  \n",
       "4                         77329  \n",
       "5                        117002  \n",
       "6                         53093  \n",
       "7                         44245  "
      ]
     },
     "execution_count": 109,
     "metadata": {},
     "output_type": "execute_result"
    }
   ],
   "source": [
    "# merge\n",
    "df = pd.merge(y, x, how = \"inner\", on = \"Ward\")\n",
    "df\n",
    "both = pd.merge(fruit, ward, how = \"inner\", on = \"Ward\")\n",
    "both.columns = [\"Ward\", \"Non-Parking\", \"Parking\", \"Median Household Income in USD\", \"Mean Household Income in USD\"]\n",
    "both"
   ]
  },
  {
   "cell_type": "code",
   "execution_count": 110,
   "metadata": {},
   "outputs": [
    {
     "data": {
      "image/png": "[encoded data removed]",
      "text/plain": [
       "<Figure size 432x288 with 1 Axes>"
      ]
     },
     "metadata": {
      "needs_background": "light"
     },
     "output_type": "display_data"
    }
   ],
   "source": [
    "#scatter plot that shows requests per ward\n",
    "notparking = plt.scatter(join[\"Ward\"], join[\"Non-Parking Request Count\"])\n",
    "parking = plt.scatter(join[\"Ward\"], join[\"Parking Request Count\"])\n",
    "plt.title(\"Service Requests vs Ward\")\n",
    "plt.xlabel(\"Ward\")\n",
    "plt.ylabel(\"Service Requests\")\n",
    "plt.legend((notparking, parking),\n",
    "          ('Non-parking', 'Parking'))\n",
    "plt.show()"
   ]
  },
  {
   "cell_type": "code",
   "execution_count": 111,
   "metadata": {},
   "outputs": [
    {
     "data": {
      "image/png": "[encoded data removed]",
      "text/plain": [
       "<Figure size 432x288 with 1 Axes>"
      ]
     },
     "metadata": {
      "needs_background": "light"
     },
     "output_type": "display_data"
    }
   ],
   "source": [
    "#scatter plot to show requests per avg income\n",
    "nopark = plt.scatter(join[\"Mean Household Income in USD\"], join[\"Non-Parking Request Count\"])\n",
    "prking = plt.scatter(join[\"Mean Household Income in USD\"], join[\"Parking Request Count\"])\n",
    "plt.title(\"Service Requests vs Mean Income\")\n",
    "plt.xlabel(\"Mean Income\")\n",
    "plt.ylabel(\"Service Requests\")\n",
    "plt.legend((nopark, prking),\n",
    "          ('Non-parking', 'Parking'))\n",
    "plt.show()"
   ]
  },
  {
   "cell_type": "code",
   "execution_count": 112,
   "metadata": {},
   "outputs": [
    {
     "data": {
      "image/png": "[encoded data removed]",
      "text/plain": [
       "<Figure size 432x288 with 1 Axes>"
      ]
     },
     "metadata": {
      "needs_background": "light"
     },
     "output_type": "display_data"
    }
   ],
   "source": [
    "# parking requests grouped by the mean income\n",
    "\n",
    "plt.scatter(join[\"Mean Household Income in USD\"], join[\"Parking Request Count\"])\n",
    "plt.title(\"Service Requests vs Mean Income\")\n",
    "plt.xlabel(\"Mean Income\")\n",
    "plt.ylabel(\"Parking Service Requests\")\n",
    "plt.show()"
   ]
  },
  {
   "cell_type": "code",
   "execution_count": 113,
   "metadata": {},
   "outputs": [
    {
     "data": {
      "image/png": "[encoded data removed]",
      "text/plain": [
       "<Figure size 432x288 with 1 Axes>"
      ]
     },
     "metadata": {
      "needs_background": "light"
     },
     "output_type": "display_data"
    }
   ],
   "source": [
    "# non parking requests grouped by the mean income\n",
    "plt.scatter(join[\"Mean Household Income in USD\"], join[\"Non-Parking Request Count\"])\n",
    "plt.title(\"Service Requests vs Mean Income in USD\")\n",
    "plt.xlabel(\"Mean Income\")\n",
    "plt.ylabel(\"Non-Parking Service Requests\")\n",
    "plt.show()"
   ]
  },
  {
   "cell_type": "markdown",
   "metadata": {},
   "source": [
    "Non-parking related issues are generally more abundant in wards with lower average incomes. Although, when the mean income reaches $150,000, it shows that there are higher parking requests. This can indicate that this area is gentrified. The data shown here can indicate that gentrification is occurring since the neighborhoods are leaning towards having more requests that are non-parking related. \n",
    "\n",
    "As the data shows, neighborhoods are becoming more and more gentrified and therefore the people who currently live there may not earn enough to continue to live there. This results in many people moving out of these areas to more affordable provinces.\n",
    "\n",
    "Some limitations to the data can include the way data was filtered. In the first assignment, I filtered the data very vaguely and therefore, there could be some parking related descriptions that I missed while wrangling the data in this analysis. "
   ]
  }
 ],
 "metadata": {
  "kernelspec": {
   "display_name": "Python 3",
   "language": "python",
   "name": "python3"
  },
  "language_info": {
   "codemirror_mode": {
    "name": "ipython",
    "version": 3
   },
   "file_extension": ".py",
   "mimetype": "text/x-python",
   "name": "python",
   "nbconvert_exporter": "python",
   "pygments_lexer": "ipython3",
   "version": "3.6.5"
  }
 },
 "nbformat": 4,
 "nbformat_minor": 2
}
